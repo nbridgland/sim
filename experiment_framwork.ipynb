{
 "cells": [
  {
   "cell_type": "code",
   "execution_count": null,
   "metadata": {},
   "outputs": [],
   "source": [
    "import itertools\n",
    "import pandas as pd\n",
    "import numpy as np\n",
    "from simulation import Simulation"
   ]
  },
  {
   "cell_type": "code",
   "execution_count": null,
   "metadata": {},
   "outputs": [],
   "source": [
    "outputfile = 'test_run.csv'"
   ]
  },
  {
   "cell_type": "code",
   "execution_count": null,
   "metadata": {},
   "outputs": [],
   "source": [
    "#Parameters\n",
    "WAREHOUSE_DIM = 30  # size of warehouse\n",
    "N_FORKLIFTS = 20  #number of forklifts available\n",
    "RECEIVING = [0, 0]  # location of receiving\n",
    "SHIPPING = [WAREHOUSE_DIM-1, WAREHOUSE_DIM-1]  # location of shipping\n",
    "LAB = [0, WAREHOUSE_DIM-1]  # location of lab\n",
    "N_JOBS = 100"
   ]
  },
  {
   "cell_type": "code",
   "execution_count": null,
   "metadata": {},
   "outputs": [],
   "source": [
    "#Generate some jobs for forklifts to do:\n",
    "def generate_random_job(warehouse_dim = WAREHOUSE_DIM, receiving = RECEIVING, shipping = SHIPPING, lab = LAB):\n",
    "    job_length = 1 + np.random.randint(3)\n",
    "    job = np.random.randint(warehouse_dim, size=job_length*2)\n",
    "    destination = [receiving, shipping, lab][np.random.choice([0,1,2])]\n",
    "    job = np.append(job, destination)\n",
    "    job = job.reshape(job_length + 1, 2)\n",
    "    return job\n",
    "\n",
    "job_list = [generate_random_job() for k in range(N_JOBS)]"
   ]
  },
  {
   "cell_type": "code",
   "execution_count": null,
   "metadata": {},
   "outputs": [],
   "source": [
    "#Set up the simulation\n",
    "test = Simulation(warehouse_x_dim=WAREHOUSE_DIM, warehouse_y_dim=WAREHOUSE_DIM, n_forklifts=N_FORKLIFTS,\n",
    "                  forklift_job_lists=job_list)\n",
    "\n",
    "#Run the simulation, writes a dataframe of statuses to the file called outputfile\n",
    "test.run(outputfile)"
   ]
  }
 ],
 "metadata": {
  "kernelspec": {
   "display_name": "Python 3",
   "language": "python",
   "name": "python3"
  },
  "language_info": {
   "codemirror_mode": {
    "name": "ipython",
    "version": 3
   },
   "file_extension": ".py",
   "mimetype": "text/x-python",
   "name": "python",
   "nbconvert_exporter": "python",
   "pygments_lexer": "ipython3",
   "version": "3.6.5"
  }
 },
 "nbformat": 4,
 "nbformat_minor": 2
}
